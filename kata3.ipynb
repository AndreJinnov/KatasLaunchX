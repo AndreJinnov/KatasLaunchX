{
 "cells": [
  {
   "cell_type": "markdown",
   "metadata": {},
   "source": [
    "## Declaraciones if, else, y elif\n",
    "\n",
    "Escribir una advertencia si un asteroide se acerca demasiado rápido a la tierra. La velocidad del asteroide varía dependiendo de lo cerca que esté del sol, cualquier velocidad superior a 25 km/s merece una advertencia\n"
   ]
  },
  {
   "cell_type": "code",
   "execution_count": 4,
   "metadata": {},
   "outputs": [
    {
     "name": "stdout",
     "output_type": "stream",
     "text": [
      "This is fine\n"
     ]
    }
   ],
   "source": [
    "# un asteroide se acerca y viaja a una velocidad de 49 km/s\n",
    "velocidad_asteroide = 25\n",
    "if velocidad_asteroide > 25:\n",
    "    print(\"This is an emergency\")\n",
    "else:\n",
    "    print(\"This is fine\")\n"
   ]
  },
  {
   "cell_type": "code",
   "execution_count": 6,
   "metadata": {},
   "outputs": [
    {
     "name": "stdout",
     "output_type": "stream",
     "text": [
      "Wuu estamos a salvo\n"
     ]
    }
   ],
   "source": [
    "# hay un asteroide que se dirige a la tierra a una velocidad de 19 km/s.\n",
    "# Si un asteroide entra a una velocidad mayor o igual a 20 km/s a veces produce un rayo de luz \n",
    "\n",
    "v2 = 19\n",
    "\n",
    "if v2 >= 20:\n",
    "    print(\"Mira una luz en el cielo\")\n",
    "else:\n",
    "    print(\"Wuu estamos a salvo\")"
   ]
  },
  {
   "cell_type": "markdown",
   "metadata": {},
   "source": [
    "### Uso de operadores and y or\n",
    "\n",
    "Los asteroides de menos de 25 metros en su dimensión más grande probablemente se quemarán a medida que entre en la atmósfera de la tierra\n",
    "\n",
    "Si una pieza de asteroide es más grande que 25 m pero más pequeña que 1000 m causaría mucho daño\n",
    "\n",
    "cualquier velocidad mayor a 25 km/s merece una advertencia\n",
    "velocidad mayor a 20 km/s puede producir un rayo"
   ]
  },
  {
   "cell_type": "code",
   "execution_count": 51,
   "metadata": {},
   "outputs": [
    {
     "name": "stdout",
     "output_type": "stream",
     "text": [
      "Esto se va a poner feo y además hay una luz en el cielo :(\n"
     ]
    }
   ],
   "source": [
    "velocidad = 26\n",
    "tamaño = 15\n",
    "\n",
    "if ((tamaño >= 25 and tamaño <= 1000) or (velocidad > 25)):\n",
    "    print(\"Esto se va a poner feo y además hay una luz en el cielo :(\")\n",
    "elif ((velocidad >= 20 and velocidad <= 25) and (tamaño >= 25 and tamaño <= 1000)):\n",
    "    print(\" habrá una luz en el cielo y ese meteorito es muy grande \\n\") \n",
    "elif ((tamaño >= 25 and tamaño <= 1000) and (velocidad <20)):\n",
    "    print(\"Va lento, pero es muy grande\")\n",
    "else:\n",
    "    print(\"wuuuu estamos bien\")"
   ]
  }
 ],
 "metadata": {
  "interpreter": {
   "hash": "53de043e544e66dc0242e86fd2c0cc94140964618fa2a1e558d61bd932738ae6"
  },
  "kernelspec": {
   "display_name": "Python 3.10.2 64-bit",
   "language": "python",
   "name": "python3"
  },
  "language_info": {
   "codemirror_mode": {
    "name": "ipython",
    "version": 3
   },
   "file_extension": ".py",
   "mimetype": "text/x-python",
   "name": "python",
   "nbconvert_exporter": "python",
   "pygments_lexer": "ipython3",
   "version": "3.10.2"
  },
  "orig_nbformat": 4
 },
 "nbformat": 4,
 "nbformat_minor": 2
}
